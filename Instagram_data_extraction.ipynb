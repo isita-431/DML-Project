{
 "cells": [
  {
   "cell_type": "code",
   "execution_count": null,
   "metadata": {},
   "outputs": [],
   "source": [
    "import instaloader\n",
    "import pandas as pd\n",
    "import time\n",
    "L = instaloader.Instaloader()\n",
    "\n",
    "target_profile = \"virat.kohli\"\n",
    "# Download the profile metadata\n",
    "\n",
    "profile = instaloader.Profile.from_username(L.context, target_profile)\n",
    "\n",
    "# Create empty lists to store data\n",
    "post_data = []\n",
    "\n",
    "# Iterate over the user's posts and collect data\n",
    "for post in profile.get_posts():\n",
    "    post_info = {\n",
    "        'Post URL': post.url,\n",
    "        'Date': post.date,\n",
    "        'Caption': post.caption,\n",
    "        'Likes': post.likes,\n",
    "        'Comments': post.comments,\n",
    "        'Location': post.location.name if post.location else None\n",
    "    }\n",
    "    post_data.append(post_info)\n",
    "    L.download_post(post, target=profile.username)\n",
    "    # time.sleep(1)\n",
    "\n",
    "# Create a Pandas DataFrame from the collected data\n",
    "data = pd.DataFrame(post_data)\n",
    "\n",
    "# # Print the DataFrame\n",
    "print(data)\n",
    "data.to_excel('virat_kohli.xlsx')"
   ]
  }
 ],
 "metadata": {
  "language_info": {
   "name": "python"
  }
 },
 "nbformat": 4,
 "nbformat_minor": 2
}
